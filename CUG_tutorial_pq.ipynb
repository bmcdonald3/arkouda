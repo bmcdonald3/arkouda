{
 "cells": [
  {
   "cell_type": "code",
   "execution_count": 1,
   "id": "44425441-7ba3-4c2e-817b-8c8f9acf2c71",
   "metadata": {},
   "outputs": [
    {
     "name": "stdout",
     "output_type": "stream",
     "text": [
      "    _         _                   _       \n",
      "   / \\   _ __| | _____  _   _  __| | __ _ \n",
      "  / _ \\ | '__| |/ / _ \\| | | |/ _` |/ _` |\n",
      " / ___ \\| |  |   < (_) | |_| | (_| | (_| |\n",
      "/_/   \\_\\_|  |_|\\_\\___/ \\__,_|\\__,_|\\__,_|\n",
      "                                          \n",
      "\n",
      "Client Version: v2023.02.08+420.g70ffd1cd1.dirty\n"
     ]
    },
    {
     "name": "stderr",
     "output_type": "stream",
     "text": [
      "/Users/ben.mcdonald/arkouda/arkouda/client.py:731: RuntimeWarning: Version mismatch between client (v2023.02.08+420.g70ffd1cd1.dirty) and server (v2023.02.08+419.g13d344a7b.dirty); this may cause some commands to fail or behave incorrectly! Updating arkouda is strongly recommended.\n",
      "  warnings.warn(\n",
      "connected to arkouda server tcp://*:5555\n"
     ]
    }
   ],
   "source": [
    "import arkouda as ak\n",
    "ak.connect() "
   ]
  },
  {
   "cell_type": "code",
   "execution_count": 2,
   "id": "c4ff0674-0ca9-4871-ab95-7027893d396c",
   "metadata": {},
   "outputs": [],
   "source": [
    "import pandas as pd\n",
    "import numpy as np\n",
    "import math\n",
    "import matplotlib.pyplot as plt\n",
    "import gc"
   ]
  },
  {
   "cell_type": "markdown",
   "id": "2ca014b4-b878-4071-b3ce-ca274d177412",
   "metadata": {},
   "source": [
    "## Read Parquet Taxi Cab Data"
   ]
  },
  {
   "cell_type": "code",
   "execution_count": 47,
   "id": "12101a21-d498-45e7-a588-b43518d45232",
   "metadata": {},
   "outputs": [
    {
     "name": "stdout",
     "output_type": "stream",
     "text": [
      "['VendorID', 'lpep_pickup_datetime', 'lpep_dropoff_datetime', 'fare_amount', 'PULocationID', 'DOLocationID']\n"
     ]
    }
   ],
   "source": [
    "columns = ['VendorID',\n",
    "           'lpep_pickup_datetime',\n",
    "           'lpep_dropoff_datetime',\n",
    "           'fare_amount',\n",
    "           'PULocationID',\n",
    "           'DOLocationID']\n",
    "data = ak.read('/Users/ben.mcdonald/data/green_tripdata_2024-01.parquet', columns)"
   ]
  },
  {
   "cell_type": "code",
   "execution_count": 48,
   "id": "4404b8bc-9e88-480b-bba2-6d21694939d8",
   "metadata": {},
   "outputs": [
    {
     "data": {
      "text/plain": [
       "{'VendorID': array([2 2 2 ... 2 2 2]),\n",
       " 'lpep_pickup_datetime': array([1704070015000000 1704069102000000 1704069021000000 ... 1706736960000000 1706741100000000 1706740080000000]),\n",
       " 'lpep_dropoff_datetime': array([1704070705000000 1704070354000000 1704070163000000 ... 1706737200000000 1706741460000000 1706741940000000]),\n",
       " 'fare_amount': array([12.800000000000001 30.300000000000001 19.800000000000001 ... 11.58 14.220000000000001 44.619999999999997]),\n",
       " 'PULocationID': array([236 65 74 ... 72 41 33]),\n",
       " 'DOLocationID': array([239 170 262 ... 72 42 91])}"
      ]
     },
     "execution_count": 48,
     "metadata": {},
     "output_type": "execute_result"
    }
   ],
   "source": [
    "data"
   ]
  },
  {
   "cell_type": "code",
   "execution_count": 7,
   "id": "2ad23be1-57a0-4cd9-932b-99101e04c0aa",
   "metadata": {},
   "outputs": [],
   "source": [
    "data['lpep_pickup_datetime'] = ak.Datetime(data['lpep_pickup_datetime'])\n",
    "data['lpep_dropoff_datetime'] = ak.Datetime(data['lpep_dropoff_datetime'])"
   ]
  },
  {
   "cell_type": "code",
   "execution_count": 8,
   "id": "956a85e8-be72-44df-83ac-c62a99ea28ef",
   "metadata": {},
   "outputs": [
    {
     "data": {
      "text/plain": [
       "{'VendorID': array([2 2 2 ... 2 2 2]),\n",
       " 'lpep_pickup_datetime': Datetime(['1970-01-20 17:21:10.015000',\n",
       "           '1970-01-20 17:21:09.102000',\n",
       "           '1970-01-20 17:21:09.021000',\n",
       "           ... ,\n",
       "           '1970-01-20 18:05:36.960000',\n",
       "           '1970-01-20 18:05:41.100000',\n",
       "           '1970-01-20 18:05:40.080000'],\n",
       "          dtype='datetime64[ns]'),\n",
       " 'lpep_dropoff_datetime': Datetime(['1970-01-20 17:21:10.705000',\n",
       "           '1970-01-20 17:21:10.354000',\n",
       "           '1970-01-20 17:21:10.163000',\n",
       "           ... ,\n",
       "           '1970-01-20 18:05:37.200000',\n",
       "           '1970-01-20 18:05:41.460000',\n",
       "           '1970-01-20 18:05:41.940000'],\n",
       "          dtype='datetime64[ns]'),\n",
       " 'fare_amount': array([12.800000000000001 30.300000000000001 19.800000000000001 ... 11.58 14.220000000000001 44.619999999999997])}"
      ]
     },
     "execution_count": 8,
     "metadata": {},
     "output_type": "execute_result"
    }
   ],
   "source": [
    "data"
   ]
  },
  {
   "cell_type": "code",
   "execution_count": 10,
   "id": "12472a46-0cc4-49da-9ee1-dd3446aababc",
   "metadata": {},
   "outputs": [],
   "source": [
    "rows = data['VendorID'].size\n",
    "numbytes = sum(v.size*v.itemsize for v in data.values())"
   ]
  },
  {
   "cell_type": "code",
   "execution_count": 11,
   "id": "6352bcbd-cfda-4223-aafa-5b772be17d6b",
   "metadata": {},
   "outputs": [
    {
     "name": "stdout",
     "output_type": "stream",
     "text": [
      "56,551 rows\n",
      "1,809,632 bytes\n"
     ]
    }
   ],
   "source": [
    "print(f'{rows:,} rows\\n{numbytes:,} bytes')"
   ]
  },
  {
   "cell_type": "markdown",
   "id": "d1e84b7c-f291-431f-999a-a1aa225407ec",
   "metadata": {},
   "source": [
    "## Data Exploration"
   ]
  },
  {
   "cell_type": "markdown",
   "id": "51312c61-ddfb-4620-85e6-653a99863646",
   "metadata": {},
   "source": [
    "#### Descriptive statistics"
   ]
  },
  {
   "cell_type": "code",
   "execution_count": 12,
   "id": "fbb71aae-5631-429d-9c49-faafc8faecf6",
   "metadata": {},
   "outputs": [],
   "source": [
    "def describe(x):\n",
    "    fmt = 'mean: {}\\nstd: {}\\nmin: {}\\nmax: {}'\n",
    "    if x.dtype == ak.float64:\n",
    "        fmt = fmt.format(*['{:.2f}' for _ in range(4)])\n",
    "    print(fmt.format(x.mean(), x.std(), x.min(), x.max()))"
   ]
  },
  {
   "cell_type": "code",
   "execution_count": 13,
   "id": "d483dfb7-aec0-46e6-ac11-4ab6301123ef",
   "metadata": {},
   "outputs": [
    {
     "name": "stdout",
     "output_type": "stream",
     "text": [
      "mean: 16.93\n",
      "std: 15.36\n",
      "min: -70.00\n",
      "max: 1422.60\n"
     ]
    }
   ],
   "source": [
    "describe(data['fare_amount'])"
   ]
  },
  {
   "cell_type": "markdown",
   "id": "e436a425-a24f-457e-bfb2-06102dbcfccb",
   "metadata": {},
   "source": [
    "#### Histogram"
   ]
  },
  {
   "cell_type": "code",
   "execution_count": 14,
   "id": "4248061a-5f44-4a8f-a2b4-fb5e5a82a52a",
   "metadata": {},
   "outputs": [],
   "source": [
    "import numpy as np\n",
    "from matplotlib import pyplot as plt\n",
    "\n",
    "def hist(x, bins, log=True):\n",
    "    assert bins > 0\n",
    "    h, bins = ak.histogram(x, bins)\n",
    "    if isinstance(x, ak.Datetime):\n",
    "        bins = ak.date_range(x.min(), x.max(), periods=bins).to_ndarray().astype('int')\n",
    "    elif isinstance(x, ak.Timedelta):\n",
    "        bins = ak.timedelta_range(x.min(), x.max(), periods=bins).to_ndarray().astype('int')\n",
    "    plt.bar(bins[:-1].to_ndarray(), h.to_ndarray(), width=bins[1]-bins[0])\n",
    "    if log:\n",
    "        plt.yscale('log')"
   ]
  },
  {
   "cell_type": "code",
   "execution_count": 15,
   "id": "66b27677-e741-46d8-b52e-71f42cf94b26",
   "metadata": {},
   "outputs": [
    {
     "data": {
      "image/png": "[encoded data removed]",
      "text/plain": [
       "<Figure size 640x480 with 1 Axes>"
      ]
     },
     "metadata": {},
     "output_type": "display_data"
    }
   ],
   "source": [
    "hist(data['fare_amount'], 100)"
   ]
  },
  {
   "cell_type": "markdown",
   "id": "6f715d53-ef4e-4553-926e-7b276eba0e04",
   "metadata": {},
   "source": [
    "#### Logical Indexing (Filters)"
   ]
  },
  {
   "cell_type": "code",
   "execution_count": 16,
   "id": "20966b98-1a67-43a9-986f-65cefd6a5689",
   "metadata": {},
   "outputs": [
    {
     "name": "stdout",
     "output_type": "stream",
     "text": [
      " 99.7% of fares are non-negative\n"
     ]
    }
   ],
   "source": [
    "nonneg = data['fare_amount'] >= 0\n",
    "print(f'{nonneg.sum() / nonneg.size : .1%} of fares are non-negative')"
   ]
  },
  {
   "cell_type": "code",
   "execution_count": 17,
   "id": "52d49ac2-aff2-43b9-9e10-d5a8fdaa1e33",
   "metadata": {},
   "outputs": [
    {
     "name": "stdout",
     "output_type": "stream",
     "text": [
      "mean: 17.01\n",
      "std: 15.29\n",
      "min: 0.00\n",
      "max: 1422.60\n"
     ]
    }
   ],
   "source": [
    "describe(data['fare_amount'][nonneg])"
   ]
  },
  {
   "cell_type": "code",
   "execution_count": 18,
   "id": "fca993c5-6b79-495d-8fc6-84590b63a43c",
   "metadata": {},
   "outputs": [],
   "source": [
    "data_nonneg = {k:v[nonneg] for k, v in data.items()}"
   ]
  },
  {
   "cell_type": "code",
   "execution_count": 19,
   "id": "897c928b-bd76-4260-8281-e53fd675c093",
   "metadata": {},
   "outputs": [
    {
     "data": {
      "text/plain": [
       "{'VendorID': array([2 2 2 ... 2 2 2]),\n",
       " 'lpep_pickup_datetime': Datetime(['1970-01-20 17:21:10.015000',\n",
       "           '1970-01-20 17:21:09.102000',\n",
       "           '1970-01-20 17:21:09.021000',\n",
       "           ... ,\n",
       "           '1970-01-20 18:05:36.960000',\n",
       "           '1970-01-20 18:05:41.100000',\n",
       "           '1970-01-20 18:05:40.080000'],\n",
       "          dtype='datetime64[ns]'),\n",
       " 'lpep_dropoff_datetime': Datetime(['1970-01-20 17:21:10.705000',\n",
       "           '1970-01-20 17:21:10.354000',\n",
       "           '1970-01-20 17:21:10.163000',\n",
       "           ... ,\n",
       "           '1970-01-20 18:05:37.200000',\n",
       "           '1970-01-20 18:05:41.460000',\n",
       "           '1970-01-20 18:05:41.940000'],\n",
       "          dtype='datetime64[ns]'),\n",
       " 'fare_amount': array([12.800000000000001 30.300000000000001 19.800000000000001 ... 11.58 14.220000000000001 44.619999999999997])}"
      ]
     },
     "execution_count": 19,
     "metadata": {},
     "output_type": "execute_result"
    }
   ],
   "source": [
    "data_nonneg"
   ]
  },
  {
   "cell_type": "markdown",
   "id": "acd2994b-a6dd-4ba0-a8d7-c7de952f6eaf",
   "metadata": {},
   "source": [
    "#### Time Data"
   ]
  },
  {
   "cell_type": "code",
   "execution_count": 20,
   "id": "47a33fc6-a228-4254-b052-3cb340a29352",
   "metadata": {},
   "outputs": [],
   "source": [
    "data['ride_duration'] = data['lpep_dropoff_datetime'] - data['lpep_pickup_datetime']"
   ]
  },
  {
   "cell_type": "code",
   "execution_count": 21,
   "id": "7be7452b-0861-4f74-b6da-7cc771292c26",
   "metadata": {},
   "outputs": [
    {
     "data": {
      "text/plain": [
       "Timedelta(['0 days 00:00:00.690000',\n",
       "           '0 days 00:00:01.252000',\n",
       "           '0 days 00:00:01.142000',\n",
       "           ... ,\n",
       "           '0 days 00:00:00.240000',\n",
       "           '0 days 00:00:00.360000',\n",
       "           '0 days 00:00:01.860000'],\n",
       "          dtype='timedelta64[ns]')"
      ]
     },
     "execution_count": 21,
     "metadata": {},
     "output_type": "execute_result"
    }
   ],
   "source": [
    "data['ride_duration']"
   ]
  },
  {
   "cell_type": "code",
   "execution_count": 22,
   "id": "30804865-ff47-4ab0-81c5-d738d3cf32d1",
   "metadata": {},
   "outputs": [
    {
     "data": {
      "text/plain": [
       "(Timedelta('0 days 00:00:00'), Timedelta('0 days 00:01:26.339000'))"
      ]
     },
     "execution_count": 22,
     "metadata": {},
     "output_type": "execute_result"
    }
   ],
   "source": [
    "data['ride_duration'].min(), data['ride_duration'].max()"
   ]
  },
  {
   "cell_type": "markdown",
   "id": "8c17cb7c-c9be-448c-8ce3-991595f29bc1",
   "metadata": {},
   "source": [
    "# TODO: FIX THIShist(data['ride_duration'], 100)"
   ]
  },
  {
   "cell_type": "markdown",
   "id": "f884c63c-e68b-4a9b-834f-41174c414b37",
   "metadata": {},
   "source": [
    "# Taxi Zone Lookup Table"
   ]
  },
  {
   "cell_type": "markdown",
   "id": "1d11274e-46fa-4f60-ac2d-eb15f682feff",
   "metadata": {},
   "source": [
    "### Use method 1: CSV -> Pandas -> Arkouda"
   ]
  },
  {
   "cell_type": "code",
   "execution_count": 26,
   "id": "e00278b1-542e-4efb-a9b2-d8a038a4ebf3",
   "metadata": {},
   "outputs": [],
   "source": [
    "import pandas as pd\n",
    "\n",
    "def cvt_to_string(v):\n",
    "    try:\n",
    "        if v == '':\n",
    "            return 'N/A'\n",
    "        else:\n",
    "            return str(v)\n",
    "    except:\n",
    "        return 'N/A'\n",
    "\n",
    "cvt = {'Borough':cvt_to_string, 'Zone':cvt_to_string, 'service zone':cvt_to_string}\n",
    "tzlut = pd.read_csv('/Users/ben.mcdonald/data/taxi_zone_lookup.csv', converters=cvt)\n",
    "\n",
    "top_row = pd.DataFrame({'LocationID': [0], 'Borough': ['N/A'], 'service_zone':['N/A']})\n",
    "tzlut = pd.concat([top_row, tzlut]).reset_index(drop=True)"
   ]
  },
  {
   "cell_type": "code",
   "execution_count": 27,
   "id": "0259a9ba-1fee-4596-ba49-cd32ea413983",
   "metadata": {},
   "outputs": [
    {
     "data": {
      "text/html": [
       "<div>\n",
       "<style scoped>\n",
       "    .dataframe tbody tr th:only-of-type {\n",
       "        vertical-align: middle;\n",
       "    }\n",
       "\n",
       "    .dataframe tbody tr th {\n",
       "        vertical-align: top;\n",
       "    }\n",
       "\n",
       "    .dataframe thead th {\n",
       "        text-align: right;\n",
       "    }\n",
       "</style>\n",
       "<table border=\"1\" class=\"dataframe\">\n",
       "  <thead>\n",
       "    <tr style=\"text-align: right;\">\n",
       "      <th></th>\n",
       "      <th>LocationID</th>\n",
       "      <th>Borough</th>\n",
       "      <th>service_zone</th>\n",
       "      <th>Zone</th>\n",
       "    </tr>\n",
       "  </thead>\n",
       "  <tbody>\n",
       "    <tr>\n",
       "      <th>0</th>\n",
       "      <td>0</td>\n",
       "      <td>N/A</td>\n",
       "      <td>N/A</td>\n",
       "      <td>NaN</td>\n",
       "    </tr>\n",
       "    <tr>\n",
       "      <th>1</th>\n",
       "      <td>1</td>\n",
       "      <td>EWR</td>\n",
       "      <td>EWR</td>\n",
       "      <td>Newark Airport</td>\n",
       "    </tr>\n",
       "    <tr>\n",
       "      <th>2</th>\n",
       "      <td>2</td>\n",
       "      <td>Queens</td>\n",
       "      <td>Boro Zone</td>\n",
       "      <td>Jamaica Bay</td>\n",
       "    </tr>\n",
       "    <tr>\n",
       "      <th>3</th>\n",
       "      <td>3</td>\n",
       "      <td>Bronx</td>\n",
       "      <td>Boro Zone</td>\n",
       "      <td>Allerton/Pelham Gardens</td>\n",
       "    </tr>\n",
       "    <tr>\n",
       "      <th>4</th>\n",
       "      <td>4</td>\n",
       "      <td>Manhattan</td>\n",
       "      <td>Yellow Zone</td>\n",
       "      <td>Alphabet City</td>\n",
       "    </tr>\n",
       "    <tr>\n",
       "      <th>...</th>\n",
       "      <td>...</td>\n",
       "      <td>...</td>\n",
       "      <td>...</td>\n",
       "      <td>...</td>\n",
       "    </tr>\n",
       "    <tr>\n",
       "      <th>261</th>\n",
       "      <td>261</td>\n",
       "      <td>Manhattan</td>\n",
       "      <td>Yellow Zone</td>\n",
       "      <td>World Trade Center</td>\n",
       "    </tr>\n",
       "    <tr>\n",
       "      <th>262</th>\n",
       "      <td>262</td>\n",
       "      <td>Manhattan</td>\n",
       "      <td>Yellow Zone</td>\n",
       "      <td>Yorkville East</td>\n",
       "    </tr>\n",
       "    <tr>\n",
       "      <th>263</th>\n",
       "      <td>263</td>\n",
       "      <td>Manhattan</td>\n",
       "      <td>Yellow Zone</td>\n",
       "      <td>Yorkville West</td>\n",
       "    </tr>\n",
       "    <tr>\n",
       "      <th>264</th>\n",
       "      <td>264</td>\n",
       "      <td>Unknown</td>\n",
       "      <td>NaN</td>\n",
       "      <td>N/A</td>\n",
       "    </tr>\n",
       "    <tr>\n",
       "      <th>265</th>\n",
       "      <td>265</td>\n",
       "      <td>N/A</td>\n",
       "      <td>NaN</td>\n",
       "      <td>Outside of NYC</td>\n",
       "    </tr>\n",
       "  </tbody>\n",
       "</table>\n",
       "<p>266 rows × 4 columns</p>\n",
       "</div>"
      ],
      "text/plain": [
       "     LocationID    Borough service_zone                     Zone\n",
       "0             0        N/A          N/A                      NaN\n",
       "1             1        EWR          EWR           Newark Airport\n",
       "2             2     Queens    Boro Zone              Jamaica Bay\n",
       "3             3      Bronx    Boro Zone  Allerton/Pelham Gardens\n",
       "4             4  Manhattan  Yellow Zone            Alphabet City\n",
       "..          ...        ...          ...                      ...\n",
       "261         261  Manhattan  Yellow Zone       World Trade Center\n",
       "262         262  Manhattan  Yellow Zone           Yorkville East\n",
       "263         263  Manhattan  Yellow Zone           Yorkville West\n",
       "264         264    Unknown          NaN                      N/A\n",
       "265         265        N/A          NaN           Outside of NYC\n",
       "\n",
       "[266 rows x 4 columns]"
      ]
     },
     "execution_count": 27,
     "metadata": {},
     "output_type": "execute_result"
    }
   ],
   "source": [
    "tzlut"
   ]
  },
  {
   "cell_type": "markdown",
   "id": "8cb2aea7-9859-4aba-a1e0-55b7c9f94145",
   "metadata": {},
   "source": [
    "#### Convert Pandas DF to Arkouda DF"
   ]
  },
  {
   "cell_type": "code",
   "execution_count": 40,
   "id": "2788fb6a-fa46-4073-8669-1f1894b544d0",
   "metadata": {},
   "outputs": [],
   "source": [
    "def ak_create_from_df(df):\n",
    "    akdict = {}\n",
    "    for cname in df.keys():\n",
    "        if df[cname].dtype.name == 'object':\n",
    "            akdict[cname] = ak.from_series(df[cname],dtype=str)\n",
    "        else:\n",
    "            akdict[cname] = ak.from_series(df[cname])\n",
    "    return ak.DataFrame(akdict)"
   ]
  },
  {
   "cell_type": "code",
   "execution_count": 41,
   "id": "c366aac1-1bc1-471a-8aa2-4b8573dd3615",
   "metadata": {},
   "outputs": [],
   "source": [
    "aktzlut = ak_create_from_df(tzlut)"
   ]
  },
  {
   "cell_type": "code",
   "execution_count": 42,
   "id": "dee31d5f-b084-4e63-923a-90a6f3c1485e",
   "metadata": {},
   "outputs": [
    {
     "data": {
      "text/html": [
       "<div>\n",
       "<style scoped>\n",
       "    .dataframe tbody tr th:only-of-type {\n",
       "        vertical-align: middle;\n",
       "    }\n",
       "\n",
       "    .dataframe tbody tr th {\n",
       "        vertical-align: top;\n",
       "    }\n",
       "\n",
       "    .dataframe thead th {\n",
       "        text-align: right;\n",
       "    }\n",
       "</style>\n",
       "<table border=\"1\" class=\"dataframe\">\n",
       "  <thead>\n",
       "    <tr style=\"text-align: right;\">\n",
       "      <th></th>\n",
       "      <th>LocationID</th>\n",
       "      <th>Borough</th>\n",
       "      <th>service_zone</th>\n",
       "      <th>Zone</th>\n",
       "    </tr>\n",
       "  </thead>\n",
       "  <tbody>\n",
       "    <tr>\n",
       "      <th>0</th>\n",
       "      <td>0</td>\n",
       "      <td>N/A</td>\n",
       "      <td>N/A</td>\n",
       "      <td>nan</td>\n",
       "    </tr>\n",
       "    <tr>\n",
       "      <th>1</th>\n",
       "      <td>1</td>\n",
       "      <td>EWR</td>\n",
       "      <td>EWR</td>\n",
       "      <td>Newark Airport</td>\n",
       "    </tr>\n",
       "    <tr>\n",
       "      <th>2</th>\n",
       "      <td>2</td>\n",
       "      <td>Queens</td>\n",
       "      <td>Boro Zone</td>\n",
       "      <td>Jamaica Bay</td>\n",
       "    </tr>\n",
       "    <tr>\n",
       "      <th>3</th>\n",
       "      <td>3</td>\n",
       "      <td>Bronx</td>\n",
       "      <td>Boro Zone</td>\n",
       "      <td>Allerton/Pelham Gardens</td>\n",
       "    </tr>\n",
       "    <tr>\n",
       "      <th>4</th>\n",
       "      <td>4</td>\n",
       "      <td>Manhattan</td>\n",
       "      <td>Yellow Zone</td>\n",
       "      <td>Alphabet City</td>\n",
       "    </tr>\n",
       "    <tr>\n",
       "      <th>...</th>\n",
       "      <td>...</td>\n",
       "      <td>...</td>\n",
       "      <td>...</td>\n",
       "      <td>...</td>\n",
       "    </tr>\n",
       "    <tr>\n",
       "      <th>261</th>\n",
       "      <td>261</td>\n",
       "      <td>Manhattan</td>\n",
       "      <td>Yellow Zone</td>\n",
       "      <td>World Trade Center</td>\n",
       "    </tr>\n",
       "    <tr>\n",
       "      <th>262</th>\n",
       "      <td>262</td>\n",
       "      <td>Manhattan</td>\n",
       "      <td>Yellow Zone</td>\n",
       "      <td>Yorkville East</td>\n",
       "    </tr>\n",
       "    <tr>\n",
       "      <th>263</th>\n",
       "      <td>263</td>\n",
       "      <td>Manhattan</td>\n",
       "      <td>Yellow Zone</td>\n",
       "      <td>Yorkville West</td>\n",
       "    </tr>\n",
       "    <tr>\n",
       "      <th>264</th>\n",
       "      <td>264</td>\n",
       "      <td>Unknown</td>\n",
       "      <td>nan</td>\n",
       "      <td>N/A</td>\n",
       "    </tr>\n",
       "    <tr>\n",
       "      <th>265</th>\n",
       "      <td>265</td>\n",
       "      <td>N/A</td>\n",
       "      <td>nan</td>\n",
       "      <td>Outside of NYC</td>\n",
       "    </tr>\n",
       "  </tbody>\n",
       "</table>\n",
       "</div><p>266 rows x 4 columns</p>"
      ],
      "text/plain": [
       "     LocationID    Borough service_zone                     Zone\n",
       "0             0        N/A          N/A                      nan\n",
       "1             1        EWR          EWR           Newark Airport\n",
       "2             2     Queens    Boro Zone              Jamaica Bay\n",
       "3             3      Bronx    Boro Zone  Allerton/Pelham Gardens\n",
       "4             4  Manhattan  Yellow Zone            Alphabet City\n",
       "..          ...        ...          ...                      ...\n",
       "261         261  Manhattan  Yellow Zone       World Trade Center\n",
       "262         262  Manhattan  Yellow Zone           Yorkville East\n",
       "263         263  Manhattan  Yellow Zone           Yorkville West\n",
       "264         264    Unknown          nan                      N/A\n",
       "265         265        N/A          nan           Outside of NYC (266 rows x 4 columns)"
      ]
     },
     "execution_count": 42,
     "metadata": {},
     "output_type": "execute_result"
    }
   ],
   "source": [
    "aktzlut"
   ]
  },
  {
   "cell_type": "markdown",
   "id": "afe8ce3a-698d-4b69-ade0-ebf9aa2c3c38",
   "metadata": {},
   "source": [
    "#### Apply Lookup Table"
   ]
  },
  {
   "cell_type": "code",
   "execution_count": 43,
   "id": "aae94ef0-7e07-4c5d-8587-9db5b02526f9",
   "metadata": {},
   "outputs": [
    {
     "data": {
      "text/plain": [
       "True"
      ]
     },
     "execution_count": 43,
     "metadata": {},
     "output_type": "execute_result"
    }
   ],
   "source": [
    "(aktzlut['LocationID'] == ak.arange(aktzlut['LocationID'].size)).all()"
   ]
  },
  {
   "cell_type": "code",
   "execution_count": 50,
   "id": "a58a4ace-4092-4a18-af22-ef1108925459",
   "metadata": {},
   "outputs": [],
   "source": [
    "data['PUBorough'] = aktzlut['Borough'][data['PULocationID']]\n",
    "data['DOBorough'] = aktzlut['Borough'][data['DOLocationID']]"
   ]
  },
  {
   "cell_type": "code",
   "execution_count": 52,
   "id": "b9454aa4-f403-4aaf-9ad8-0bb6b811cb54",
   "metadata": {},
   "outputs": [],
   "source": [
    "data['PUZone'] = aktzlut['Zone'][data['PULocationID']]\n",
    "data['DOZone'] = aktzlut['Zone'][data['DOLocationID']]"
   ]
  },
  {
   "cell_type": "code",
   "execution_count": 53,
   "id": "ed671f49-1ae0-4412-abe8-ea0b3ca7c998",
   "metadata": {},
   "outputs": [
    {
     "data": {
      "text/plain": [
       "{'VendorID': array([2 2 2 ... 2 2 2]),\n",
       " 'lpep_pickup_datetime': array([1704070015000000 1704069102000000 1704069021000000 ... 1706736960000000 1706741100000000 1706740080000000]),\n",
       " 'lpep_dropoff_datetime': array([1704070705000000 1704070354000000 1704070163000000 ... 1706737200000000 1706741460000000 1706741940000000]),\n",
       " 'fare_amount': array([12.800000000000001 30.300000000000001 19.800000000000001 ... 11.58 14.220000000000001 44.619999999999997]),\n",
       " 'PULocationID': array([236 65 74 ... 72 41 33]),\n",
       " 'DOLocationID': array([239 170 262 ... 72 42 91]),\n",
       " 'PUBorough': array(['Manhattan', 'Brooklyn', 'Manhattan', ... , 'Brooklyn', 'Manhattan', 'Brooklyn']),\n",
       " 'DOBorough': array(['Manhattan', 'Manhattan', 'Manhattan', ... , 'Brooklyn', 'Manhattan', 'Brooklyn']),\n",
       " 'PUZone': array(['Upper East Side North', 'Downtown Brooklyn/MetroTech', 'East Harlem North', ... , 'East Flatbush/Remsen Village', 'Central Harlem', 'Brooklyn Heights']),\n",
       " 'DOZone': array(['Upper West Side South', 'Murray Hill', 'Yorkville East', ... , 'East Flatbush/Remsen Village', 'Central Harlem North', 'Flatlands'])}"
      ]
     },
     "execution_count": 53,
     "metadata": {},
     "output_type": "execute_result"
    }
   ],
   "source": [
    "data"
   ]
  },
  {
   "cell_type": "markdown",
   "id": "729dcd3e-556f-4808-bc34-c13dcdc1cafb",
   "metadata": {},
   "source": [
    "#### GroupBy: Construct a Graph\n",
    "Define graph from PULocationID -> DOLocationID"
   ]
  },
  {
   "cell_type": "code",
   "execution_count": 55,
   "id": "f7d93d04-af51-4679-8d5f-ca8c3425bf18",
   "metadata": {},
   "outputs": [],
   "source": [
    "byloc = ak.GroupBy([data['PULocationID'], data['DOLocationID']])"
   ]
  },
  {
   "cell_type": "code",
   "execution_count": 56,
   "id": "0d3ee19b-3864-4ccb-9f4b-be5513dd7ef5",
   "metadata": {},
   "outputs": [
    {
     "data": {
      "text/plain": [
       "(array([1 3 3 ... 265 265 265]), array([1 132 166 ... 244 264 265]))"
      ]
     },
     "execution_count": 56,
     "metadata": {},
     "output_type": "execute_result"
    }
   ],
   "source": [
    "byloc.unique_keys"
   ]
  },
  {
   "cell_type": "code",
   "execution_count": 57,
   "id": "c69abfad-9be0-4ffa-a234-b7a5548f7630",
   "metadata": {},
   "outputs": [],
   "source": [
    "(u, v), w = byloc.count()"
   ]
  },
  {
   "cell_type": "code",
   "execution_count": 58,
   "id": "8f457114-8ac0-4b5b-a7ae-8f7409f4332c",
   "metadata": {},
   "outputs": [
    {
     "data": {
      "text/plain": [
       "(array([1 3 3 ... 265 265 265]),\n",
       " array([1 132 166 ... 244 264 265]),\n",
       " array([3 1 1 ... 1 2 8]))"
      ]
     },
     "execution_count": 58,
     "metadata": {},
     "output_type": "execute_result"
    }
   ],
   "source": [
    "u, v, w"
   ]
  },
  {
   "cell_type": "markdown",
   "id": "1dc78f63-0bec-49ad-ac02-c8ea6d62a034",
   "metadata": {},
   "source": [
    "#### Broadcast: Find Rides with Anomalous Fares\n",
    "Compute mean and stddev of fare by (pickup, dropoff)"
   ]
  },
  {
   "cell_type": "code",
   "execution_count": 60,
   "id": "5c5f9378-e69a-4322-89b5-914e292e8cdc",
   "metadata": {},
   "outputs": [],
   "source": [
    "_, mf = byloc.mean(data['fare_amount'])"
   ]
  },
  {
   "cell_type": "code",
   "execution_count": 61,
   "id": "aa470127-dfd2-46d4-8ae8-190581835b08",
   "metadata": {},
   "outputs": [],
   "source": [
    "sf = (byloc.sum(data['fare_amount']**2)[1] / w) - mf**2"
   ]
  },
  {
   "cell_type": "markdown",
   "id": "dfd63545-b02a-4980-ad4c-91656b08ad06",
   "metadata": {},
   "source": [
    "Broadcast group values back to ride dataframe to compute z-score of rides"
   ]
  },
  {
   "cell_type": "code",
   "execution_count": 63,
   "id": "283d21cc-b0b9-48a7-ab2a-11fae4249690",
   "metadata": {},
   "outputs": [],
   "source": [
    "data['fare_mean'] = byloc.broadcast(mf, permute=True)\n",
    "data['fare_std'] = byloc.broadcast(sf, permute=True)"
   ]
  },
  {
   "cell_type": "code",
   "execution_count": 65,
   "id": "de016c56-e245-4e89-b43e-84161d9068ef",
   "metadata": {},
   "outputs": [],
   "source": [
    "data['fare_z'] = (data['fare_amount'] - data['fare_mean']) / (data['fare_std'] + 1)"
   ]
  },
  {
   "cell_type": "code",
   "execution_count": 66,
   "id": "c31f5c5f-a92a-4521-a805-4a9b6d28a0d1",
   "metadata": {},
   "outputs": [
    {
     "data": {
      "image/png": "[encoded data removed]",
      "text/plain": [
       "<Figure size 640x480 with 1 Axes>"
      ]
     },
     "metadata": {},
     "output_type": "display_data"
    }
   ],
   "source": [
    "hist(data['fare_z'], 100)"
   ]
  },
  {
   "cell_type": "markdown",
   "id": "c9ecc91e-3e2c-42e6-99c3-8879184f54aa",
   "metadata": {},
   "source": [
    "# TODO: This is wrong in the conversion to Panda\n",
    "#### Bring Small Result Set Back to Pandas"
   ]
  },
  {
   "cell_type": "code",
   "execution_count": 72,
   "id": "065fdbb6-a2cd-4c97-a90c-afb77e6be417",
   "metadata": {},
   "outputs": [],
   "source": [
    "exorbitant = (data['fare_z'] > 3)\n",
    "exdf = pd.DataFrame({k: v[exorbitant].to_ndarray() for k, v in data.items()})"
   ]
  },
  {
   "cell_type": "code",
   "execution_count": 73,
   "id": "2a8e0d78-89f8-4082-b611-23e9e5f165a0",
   "metadata": {},
   "outputs": [
    {
     "data": {
      "text/html": [
       "<div>\n",
       "<style scoped>\n",
       "    .dataframe tbody tr th:only-of-type {\n",
       "        vertical-align: middle;\n",
       "    }\n",
       "\n",
       "    .dataframe tbody tr th {\n",
       "        vertical-align: top;\n",
       "    }\n",
       "\n",
       "    .dataframe thead th {\n",
       "        text-align: right;\n",
       "    }\n",
       "</style>\n",
       "<table border=\"1\" class=\"dataframe\">\n",
       "  <thead>\n",
       "    <tr style=\"text-align: right;\">\n",
       "      <th></th>\n",
       "      <th>VendorID</th>\n",
       "      <th>lpep_pickup_datetime</th>\n",
       "      <th>lpep_dropoff_datetime</th>\n",
       "      <th>fare_amount</th>\n",
       "      <th>PULocationID</th>\n",
       "      <th>DOLocationID</th>\n",
       "      <th>PUBorough</th>\n",
       "      <th>DOBorough</th>\n",
       "      <th>PUZone</th>\n",
       "      <th>DOZone</th>\n",
       "      <th>fare_mean</th>\n",
       "      <th>fare_std</th>\n",
       "      <th>fare_z</th>\n",
       "    </tr>\n",
       "  </thead>\n",
       "  <tbody>\n",
       "    <tr>\n",
       "      <th>0</th>\n",
       "      <td>2</td>\n",
       "      <td>1704912105000000</td>\n",
       "      <td>1704914550000000</td>\n",
       "      <td>55.5</td>\n",
       "      <td>74</td>\n",
       "      <td>138</td>\n",
       "      <td>Manhattan</td>\n",
       "      <td>Queens</td>\n",
       "      <td>East Harlem North</td>\n",
       "      <td>LaGuardia Airport</td>\n",
       "      <td>28.216444</td>\n",
       "      <td>6.871561</td>\n",
       "      <td>3.466092</td>\n",
       "    </tr>\n",
       "    <tr>\n",
       "      <th>1</th>\n",
       "      <td>1</td>\n",
       "      <td>1706176798000000</td>\n",
       "      <td>1706178607000000</td>\n",
       "      <td>25.4</td>\n",
       "      <td>75</td>\n",
       "      <td>74</td>\n",
       "      <td>Manhattan</td>\n",
       "      <td>Manhattan</td>\n",
       "      <td>East Harlem South</td>\n",
       "      <td>East Harlem North</td>\n",
       "      <td>8.806766</td>\n",
       "      <td>4.324441</td>\n",
       "      <td>3.116427</td>\n",
       "    </tr>\n",
       "    <tr>\n",
       "      <th>2</th>\n",
       "      <td>2</td>\n",
       "      <td>1706709366000000</td>\n",
       "      <td>1706711214000000</td>\n",
       "      <td>34.5</td>\n",
       "      <td>74</td>\n",
       "      <td>75</td>\n",
       "      <td>Manhattan</td>\n",
       "      <td>Manhattan</td>\n",
       "      <td>East Harlem North</td>\n",
       "      <td>East Harlem South</td>\n",
       "      <td>10.356889</td>\n",
       "      <td>6.763855</td>\n",
       "      <td>3.109681</td>\n",
       "    </tr>\n",
       "    <tr>\n",
       "      <th>3</th>\n",
       "      <td>1</td>\n",
       "      <td>1706711409000000</td>\n",
       "      <td>1706714350000000</td>\n",
       "      <td>41.5</td>\n",
       "      <td>74</td>\n",
       "      <td>75</td>\n",
       "      <td>Manhattan</td>\n",
       "      <td>Manhattan</td>\n",
       "      <td>East Harlem North</td>\n",
       "      <td>East Harlem South</td>\n",
       "      <td>10.356889</td>\n",
       "      <td>6.763855</td>\n",
       "      <td>4.011295</td>\n",
       "    </tr>\n",
       "  </tbody>\n",
       "</table>\n",
       "</div>"
      ],
      "text/plain": [
       "   VendorID  lpep_pickup_datetime  lpep_dropoff_datetime  fare_amount  \\\n",
       "0         2      1704912105000000       1704914550000000         55.5   \n",
       "1         1      1706176798000000       1706178607000000         25.4   \n",
       "2         2      1706709366000000       1706711214000000         34.5   \n",
       "3         1      1706711409000000       1706714350000000         41.5   \n",
       "\n",
       "   PULocationID  DOLocationID  PUBorough  DOBorough             PUZone  \\\n",
       "0            74           138  Manhattan     Queens  East Harlem North   \n",
       "1            75            74  Manhattan  Manhattan  East Harlem South   \n",
       "2            74            75  Manhattan  Manhattan  East Harlem North   \n",
       "3            74            75  Manhattan  Manhattan  East Harlem North   \n",
       "\n",
       "              DOZone  fare_mean  fare_std    fare_z  \n",
       "0  LaGuardia Airport  28.216444  6.871561  3.466092  \n",
       "1  East Harlem North   8.806766  4.324441  3.116427  \n",
       "2  East Harlem South  10.356889  6.763855  3.109681  \n",
       "3  East Harlem South  10.356889  6.763855  4.011295  "
      ]
     },
     "execution_count": 73,
     "metadata": {},
     "output_type": "execute_result"
    }
   ],
   "source": [
    "exdf"
   ]
  },
  {
   "cell_type": "code",
   "execution_count": 74,
   "id": "03e97c77-406b-4692-89c4-33a5a4320501",
   "metadata": {},
   "outputs": [
    {
     "data": {
      "text/plain": [
       "{'VendorID': 1,\n",
       " 'lpep_pickup_datetime': 1706711409000000,\n",
       " 'lpep_dropoff_datetime': 1706714350000000,\n",
       " 'fare_amount': 41.5,\n",
       " 'PULocationID': 74,\n",
       " 'DOLocationID': 75,\n",
       " 'PUBorough': 'Manhattan',\n",
       " 'DOBorough': 'Manhattan',\n",
       " 'PUZone': 'East Harlem North',\n",
       " 'DOZone': 'East Harlem South',\n",
       " 'fare_mean': 10.356889007470594,\n",
       " 'fare_std': 6.763855476474191,\n",
       " 'fare_z': 4.011294528459263}"
      ]
     },
     "execution_count": 74,
     "metadata": {},
     "output_type": "execute_result"
    }
   ],
   "source": [
    "worst = data['fare_z'].argmax()\n",
    "{k:v[worst] for k, v in data.items()}"
   ]
  },
  {
   "cell_type": "markdown",
   "id": "88cf9a47-64d2-4870-8022-f7dc95f328d5",
   "metadata": {},
   "source": [
    "### Disconnect From or Shutdown Server"
   ]
  },
  {
   "cell_type": "code",
   "execution_count": 75,
   "id": "2d453e60-521b-4853-9015-e7250da5407d",
   "metadata": {},
   "outputs": [],
   "source": [
    "# ak.disconnect()\n",
    "# ak.shutdown()"
   ]
  }
 ],
 "metadata": {
  "kernelspec": {
   "display_name": "Python 3 (ipykernel)",
   "language": "python",
   "name": "python3"
  },
  "language_info": {
   "codemirror_mode": {
    "name": "ipython",
    "version": 3
   },
   "file_extension": ".py",
   "mimetype": "text/x-python",
   "name": "python",
   "nbconvert_exporter": "python",
   "pygments_lexer": "ipython3",
   "version": "3.12.1"
  }
 },
 "nbformat": 4,
 "nbformat_minor": 5
}
